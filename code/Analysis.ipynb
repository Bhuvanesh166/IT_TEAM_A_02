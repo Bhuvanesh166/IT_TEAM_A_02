{
  "nbformat": 4,
  "nbformat_minor": 0,
  "metadata": {
    "colab": {
      "provenance": []
    },
    "kernelspec": {
      "name": "python3",
      "display_name": "Python 3"
    },
    "language_info": {
      "name": "python"
    }
  },
  "cells": [
    {
      "cell_type": "code",
      "execution_count": null,
      "metadata": {
        "colab": {
          "base_uri": "https://localhost:8080/"
        },
        "id": "frh7aBCSbphz",
        "outputId": "384a1768-0758-4eed-ea10-2647e13c37d2"
      },
      "outputs": [
        {
          "output_type": "stream",
          "name": "stdout",
          "text": [
            "Mounted at /content/drive\n"
          ]
        }
      ],
      "source": [
        "from google.colab import drive\n",
        "\n",
        "# Mount Google Drive\n",
        "drive.mount('/content/drive')"
      ]
    },
    {
      "cell_type": "code",
      "source": [
        "cd /content/drive/MyDrive/Demo"
      ],
      "metadata": {
        "colab": {
          "base_uri": "https://localhost:8080/"
        },
        "id": "ePYwoiysb9zl",
        "outputId": "b0e1fc29-d335-4824-86ec-f27f220c06de"
      },
      "execution_count": null,
      "outputs": [
        {
          "output_type": "stream",
          "name": "stdout",
          "text": [
            "/content/drive/MyDrive/Demo\n"
          ]
        }
      ]
    },
    {
      "cell_type": "code",
      "source": [],
      "metadata": {
        "id": "Zrj0Y-dcm6_M"
      },
      "execution_count": null,
      "outputs": []
    },
    {
      "cell_type": "code",
      "source": [
        "pip install flask\n"
      ],
      "metadata": {
        "colab": {
          "base_uri": "https://localhost:8080/"
        },
        "id": "5B1mB-zycCbU",
        "outputId": "00d29597-57d2-426d-c19b-83aaee7d49b8"
      },
      "execution_count": null,
      "outputs": [
        {
          "output_type": "stream",
          "name": "stdout",
          "text": [
            "Requirement already satisfied: flask in /usr/local/lib/python3.10/dist-packages (2.2.5)\n",
            "Requirement already satisfied: Werkzeug>=2.2.2 in /usr/local/lib/python3.10/dist-packages (from flask) (3.0.1)\n",
            "Requirement already satisfied: Jinja2>=3.0 in /usr/local/lib/python3.10/dist-packages (from flask) (3.1.2)\n",
            "Requirement already satisfied: itsdangerous>=2.0 in /usr/local/lib/python3.10/dist-packages (from flask) (2.1.2)\n",
            "Requirement already satisfied: click>=8.0 in /usr/local/lib/python3.10/dist-packages (from flask) (8.1.7)\n",
            "Requirement already satisfied: MarkupSafe>=2.0 in /usr/local/lib/python3.10/dist-packages (from Jinja2>=3.0->flask) (2.1.3)\n"
          ]
        }
      ]
    },
    {
      "cell_type": "code",
      "source": [
        "from google.colab.output import eval_js\n",
        "print(eval_js(\"google.colab.kernel.proxyPort(5000)\"))"
      ],
      "metadata": {
        "colab": {
          "base_uri": "https://localhost:8080/",
          "height": 34
        },
        "id": "M9WKmXrIcG3N",
        "outputId": "cc163e3e-d8ea-4dee-f8c6-39ae7de6b7dd"
      },
      "execution_count": null,
      "outputs": [
        {
          "output_type": "stream",
          "name": "stdout",
          "text": [
            "https://dnghe8kbbvf-496ff2e9c6d22116-5000-colab.googleusercontent.com/\n"
          ]
        }
      ]
    },
    {
      "cell_type": "code",
      "source": [
        "from flask import Flask, render_template, request\n",
        "import pandas as pd\n",
        "from transformers import pipeline\n",
        "app = Flask(__name__, template_folder=\"/content/drive/MyDrive/Demo\")\n",
        "\n",
        "# Load the sentiment-analysis pipeline\n",
        "sentiment_pipeline = pipeline(\"sentiment-analysis\", model='distilbert-base-uncased-finetuned-sst-2-english')\n",
        "\n",
        "def get_majority_sentiment(sentiments):\n",
        "    # Calculate the majority sentiment\n",
        "    positive_count = sentiments.count('POSITIVE')\n",
        "    negative_count = sentiments.count('NEGATIVE')\n",
        "    if positive_count > negative_count:\n",
        "        return 'MAJORITY OF THE CUSTOMER HAS A GOOD EXPERIENCE'\n",
        "    elif negative_count > positive_count:\n",
        "        return 'MAJORITY OF THE CUSTOMER HAS A BAD EXPERIENCE'\n",
        "    else:\n",
        "        return 'MAJORITY OF THE CUSTOMER HAS A NEUTRAL EXPERIENCE'\n",
        "\n",
        "\n",
        "predicted_labels_list = []\n",
        "comments_list=[]\n",
        "# Define a function to generate a summary based on majority sentiment\n",
        "\n",
        "\n",
        "@app.route('/')\n",
        "def upload_file():\n",
        "    return render_template('index.html')\n",
        "@app.route('/store_comment', methods=['POST'])\n",
        "def store_comment():\n",
        "    data = request.get_json()\n",
        "    user_review = data['userReview']\n",
        "   # Perform sentiment analysis using the pipeline\n",
        "    sentiment_result = sentiment_pipeline(user_review)[0]\n",
        "    predicted_label = sentiment_result['label']\n",
        "    comments_list.append({'comment': user_review, 'predicted_label': predicted_label})\n",
        "    #print(data)\n",
        "    predicted_labels_list.append(predicted_label)\n",
        "    print(comments_list)\n",
        "    return jsonify(success=True)\n",
        "get_majority_sentiment(predicted_labels_list)\n",
        "\n",
        "if __name__ == '__main__':\n",
        "\n",
        "    app.run()"
      ],
      "metadata": {
        "colab": {
          "base_uri": "https://localhost:8080/"
        },
        "id": "WwtEBbadcQh4",
        "outputId": "c6e7c40e-92c3-4825-b5a6-4df61aa08870"
      },
      "execution_count": null,
      "outputs": [
        {
          "output_type": "stream",
          "name": "stdout",
          "text": [
            " * Serving Flask app '__main__'\n",
            " * Debug mode: off\n"
          ]
        },
        {
          "output_type": "stream",
          "name": "stderr",
          "text": [
            "INFO:werkzeug:\u001b[31m\u001b[1mWARNING: This is a development server. Do not use it in a production deployment. Use a production WSGI server instead.\u001b[0m\n",
            " * Running on http://127.0.0.1:5000\n",
            "INFO:werkzeug:\u001b[33mPress CTRL+C to quit\u001b[0m\n",
            "INFO:werkzeug:127.0.0.1 - - [18/Nov/2023 04:57:41] \"GET / HTTP/1.1\" 200 -\n",
            "INFO:werkzeug:127.0.0.1 - - [18/Nov/2023 04:57:41] \"\u001b[33mGET /s22.jpg HTTP/1.1\u001b[0m\" 404 -\n",
            "INFO:werkzeug:127.0.0.1 - - [18/Nov/2023 04:57:42] \"\u001b[33mGET /favicon.ico HTTP/1.1\u001b[0m\" 404 -\n",
            "ERROR:__main__:Exception on /store_comment [POST]\n",
            "Traceback (most recent call last):\n",
            "  File \"/usr/local/lib/python3.10/dist-packages/flask/app.py\", line 2529, in wsgi_app\n",
            "    response = self.full_dispatch_request()\n",
            "  File \"/usr/local/lib/python3.10/dist-packages/flask/app.py\", line 1825, in full_dispatch_request\n",
            "    rv = self.handle_user_exception(e)\n",
            "  File \"/usr/local/lib/python3.10/dist-packages/flask/app.py\", line 1823, in full_dispatch_request\n",
            "    rv = self.dispatch_request()\n",
            "  File \"/usr/local/lib/python3.10/dist-packages/flask/app.py\", line 1799, in dispatch_request\n",
            "    return self.ensure_sync(self.view_functions[rule.endpoint])(**view_args)\n",
            "  File \"<ipython-input-14-ea17b751352d>\", line 40, in store_comment\n",
            "    return jsonify(success=True)\n",
            "NameError: name 'jsonify' is not defined\n",
            "INFO:werkzeug:127.0.0.1 - - [18/Nov/2023 04:58:15] \"\u001b[35m\u001b[1mPOST /store_comment HTTP/1.1\u001b[0m\" 500 -\n"
          ]
        },
        {
          "output_type": "stream",
          "name": "stdout",
          "text": [
            "[{'comment': \"This didn't meet my expectations,\\n\", 'predicted_label': 'NEGATIVE'}]\n"
          ]
        },
        {
          "output_type": "stream",
          "name": "stderr",
          "text": [
            "ERROR:__main__:Exception on /store_comment [POST]\n",
            "Traceback (most recent call last):\n",
            "  File \"/usr/local/lib/python3.10/dist-packages/flask/app.py\", line 2529, in wsgi_app\n",
            "    response = self.full_dispatch_request()\n",
            "  File \"/usr/local/lib/python3.10/dist-packages/flask/app.py\", line 1825, in full_dispatch_request\n",
            "    rv = self.handle_user_exception(e)\n",
            "  File \"/usr/local/lib/python3.10/dist-packages/flask/app.py\", line 1823, in full_dispatch_request\n",
            "    rv = self.dispatch_request()\n",
            "  File \"/usr/local/lib/python3.10/dist-packages/flask/app.py\", line 1799, in dispatch_request\n",
            "    return self.ensure_sync(self.view_functions[rule.endpoint])(**view_args)\n",
            "  File \"<ipython-input-14-ea17b751352d>\", line 40, in store_comment\n",
            "    return jsonify(success=True)\n",
            "NameError: name 'jsonify' is not defined\n",
            "INFO:werkzeug:127.0.0.1 - - [18/Nov/2023 04:58:31] \"\u001b[35m\u001b[1mPOST /store_comment HTTP/1.1\u001b[0m\" 500 -\n"
          ]
        },
        {
          "output_type": "stream",
          "name": "stdout",
          "text": [
            "[{'comment': \"This didn't meet my expectations,\\n\", 'predicted_label': 'NEGATIVE'}, {'comment': 'The product is not impressives\\n', 'predicted_label': 'NEGATIVE'}]\n"
          ]
        },
        {
          "output_type": "stream",
          "name": "stderr",
          "text": [
            "ERROR:__main__:Exception on /store_comment [POST]\n",
            "Traceback (most recent call last):\n",
            "  File \"/usr/local/lib/python3.10/dist-packages/flask/app.py\", line 2529, in wsgi_app\n",
            "    response = self.full_dispatch_request()\n",
            "  File \"/usr/local/lib/python3.10/dist-packages/flask/app.py\", line 1825, in full_dispatch_request\n",
            "    rv = self.handle_user_exception(e)\n",
            "  File \"/usr/local/lib/python3.10/dist-packages/flask/app.py\", line 1823, in full_dispatch_request\n",
            "    rv = self.dispatch_request()\n",
            "  File \"/usr/local/lib/python3.10/dist-packages/flask/app.py\", line 1799, in dispatch_request\n",
            "    return self.ensure_sync(self.view_functions[rule.endpoint])(**view_args)\n",
            "  File \"<ipython-input-14-ea17b751352d>\", line 40, in store_comment\n",
            "    return jsonify(success=True)\n",
            "NameError: name 'jsonify' is not defined\n",
            "INFO:werkzeug:127.0.0.1 - - [18/Nov/2023 04:58:51] \"\u001b[35m\u001b[1mPOST /store_comment HTTP/1.1\u001b[0m\" 500 -\n"
          ]
        },
        {
          "output_type": "stream",
          "name": "stdout",
          "text": [
            "[{'comment': \"This didn't meet my expectations,\\n\", 'predicted_label': 'NEGATIVE'}, {'comment': 'The product is not impressives\\n', 'predicted_label': 'NEGATIVE'}, {'comment': 'this product is worst', 'predicted_label': 'NEGATIVE'}]\n"
          ]
        }
      ]
    },
    {
      "cell_type": "code",
      "source": [
        "get_majority_sentiment(predicted_labels_list)"
      ],
      "metadata": {
        "colab": {
          "base_uri": "https://localhost:8080/",
          "height": 36
        },
        "id": "lzxB0JCjosVU",
        "outputId": "e8ce11a1-54d1-405c-aca1-8c654c8817bd"
      },
      "execution_count": null,
      "outputs": [
        {
          "output_type": "execute_result",
          "data": {
            "text/plain": [
              "'MAJORITY OF THE CUSTOMER HAS A GOOD EXPERIENCE'"
            ],
            "application/vnd.google.colaboratory.intrinsic+json": {
              "type": "string"
            }
          },
          "metadata": {},
          "execution_count": 22
        }
      ]
    },
    {
      "cell_type": "code",
      "source": [
        "app = Flask(__name__, template_folder=\"/content/drive/MyDrive/Demo\")\n",
        "@app.route('/')\n",
        "def display_summary():\n",
        "    # Calculate the majority sentiment and generate summary text\n",
        "    majority_sentiment = get_majority_sentiment(predicted_labels_list)\n",
        "    summary_text =  {majority_sentiment}\n",
        "    df = pd.DataFrame(comments_list)\n",
        "\n",
        "    return render_template('summary_output.html',comments=df.to_dict('records'), summary_text=summary_text)\n",
        "if __name__ == '__main__':\n",
        "\n",
        "    app.run()"
      ],
      "metadata": {
        "colab": {
          "base_uri": "https://localhost:8080/"
        },
        "id": "toW71icFqBDf",
        "outputId": "2bbfd2c2-a0d6-406c-86c4-0e405fd16f25"
      },
      "execution_count": null,
      "outputs": [
        {
          "output_type": "stream",
          "name": "stdout",
          "text": [
            " * Serving Flask app '__main__'\n",
            " * Debug mode: off\n"
          ]
        },
        {
          "output_type": "stream",
          "name": "stderr",
          "text": [
            "INFO:werkzeug:\u001b[31m\u001b[1mWARNING: This is a development server. Do not use it in a production deployment. Use a production WSGI server instead.\u001b[0m\n",
            " * Running on http://127.0.0.1:5000\n",
            "INFO:werkzeug:\u001b[33mPress CTRL+C to quit\u001b[0m\n",
            "INFO:werkzeug:127.0.0.1 - - [18/Nov/2023 04:59:17] \"GET / HTTP/1.1\" 200 -\n",
            "INFO:werkzeug:127.0.0.1 - - [18/Nov/2023 04:59:18] \"\u001b[33mGET /favicon.ico HTTP/1.1\u001b[0m\" 404 -\n"
          ]
        }
      ]
    }
  ]
}